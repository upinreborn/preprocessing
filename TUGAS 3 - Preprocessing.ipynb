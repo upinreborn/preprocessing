{
 "cells": [
  {
   "cell_type": "code",
   "execution_count": 1,
   "id": "43292cd0",
   "metadata": {},
   "outputs": [],
   "source": [
    "#Tugas 3 Data Mining\n",
    "#M. Nur Aziz Musyaffa\n",
    "#A11.2020.13075\n",
    "\n",
    "import numpy as np\n",
    "import matplotlib.pyplot as plt\n",
    "import pandas as pd"
   ]
  },
  {
   "cell_type": "code",
   "execution_count": 2,
   "id": "3f816b98",
   "metadata": {},
   "outputs": [],
   "source": [
    "dataset = pd.read_csv('Data1.csv')\n",
    "X = dataset.iloc[:, :-1].values\n",
    "y = dataset.iloc[:, -1].values"
   ]
  },
  {
   "cell_type": "code",
   "execution_count": 3,
   "id": "91651ada",
   "metadata": {},
   "outputs": [
    {
     "name": "stdout",
     "output_type": "stream",
     "text": [
      "[['Semarang' 46.0 72000.0]\n",
      " ['Brebes' 29.0 48000.0]\n",
      " ['Bumiayu' 30.0 54000.0]\n",
      " ['Bumiayu' 36.0 61000.0]\n",
      " ['Bekasi' 40.0 nan]\n",
      " ['Brebes' 35.0 nan]\n",
      " ['Semarang' nan 52000.0]\n",
      " ['Semarang' 43.0 79000.0]\n",
      " ['Brebes' 50.0 83000.0]\n",
      " ['Bekasi' 40.0 67000.0]\n",
      " ['Bekasi' 41.0 nan]\n",
      " ['Brebes' 42.0 67000.0]\n",
      " ['Semarang' 32.0 67000.0]\n",
      " ['Semarang' 45.0 69000.0]]\n",
      "['No' 'Yes' 'No' 'No' 'Yes' 'Yes' 'No' 'Yes' 'No' 'Yes' 'No' 'No' 'Yes'\n",
      " 'Yes']\n"
     ]
    }
   ],
   "source": [
    "print(X)\n",
    "print(y)"
   ]
  },
  {
   "cell_type": "code",
   "execution_count": 4,
   "id": "d7022055",
   "metadata": {},
   "outputs": [],
   "source": [
    "from sklearn.impute import SimpleImputer\n",
    "imputer = SimpleImputer(missing_values=np.nan, strategy='mean')\n",
    "imputer.fit(X[:, 1:3])\n",
    "X[:, 1:3] = imputer.transform(X[:, 1:3])"
   ]
  },
  {
   "cell_type": "code",
   "execution_count": 5,
   "id": "7aa3f279",
   "metadata": {},
   "outputs": [
    {
     "name": "stdout",
     "output_type": "stream",
     "text": [
      "[['Semarang' 46.0 72000.0]\n",
      " ['Brebes' 29.0 48000.0]\n",
      " ['Bumiayu' 30.0 54000.0]\n",
      " ['Bumiayu' 36.0 61000.0]\n",
      " ['Bekasi' 40.0 65363.63636363636]\n",
      " ['Brebes' 35.0 65363.63636363636]\n",
      " ['Semarang' 39.15384615384615 52000.0]\n",
      " ['Semarang' 43.0 79000.0]\n",
      " ['Brebes' 50.0 83000.0]\n",
      " ['Bekasi' 40.0 67000.0]\n",
      " ['Bekasi' 41.0 65363.63636363636]\n",
      " ['Brebes' 42.0 67000.0]\n",
      " ['Semarang' 32.0 67000.0]\n",
      " ['Semarang' 45.0 69000.0]]\n"
     ]
    }
   ],
   "source": [
    "print(X)"
   ]
  },
  {
   "cell_type": "code",
   "execution_count": 6,
   "id": "dc642ca7",
   "metadata": {},
   "outputs": [],
   "source": [
    "from sklearn.compose import ColumnTransformer\n",
    "from sklearn.preprocessing import OneHotEncoder\n",
    "ct = ColumnTransformer(transformers = [('encoder', OneHotEncoder(), [0])], remainder = 'passthrough')\n",
    "X = np.array(ct.fit_transform(X))"
   ]
  },
  {
   "cell_type": "code",
   "execution_count": 7,
   "id": "bf0a7c0f",
   "metadata": {},
   "outputs": [
    {
     "name": "stdout",
     "output_type": "stream",
     "text": [
      "[[0.0 0.0 0.0 1.0 46.0 72000.0]\n",
      " [0.0 1.0 0.0 0.0 29.0 48000.0]\n",
      " [0.0 0.0 1.0 0.0 30.0 54000.0]\n",
      " [0.0 0.0 1.0 0.0 36.0 61000.0]\n",
      " [1.0 0.0 0.0 0.0 40.0 65363.63636363636]\n",
      " [0.0 1.0 0.0 0.0 35.0 65363.63636363636]\n",
      " [0.0 0.0 0.0 1.0 39.15384615384615 52000.0]\n",
      " [0.0 0.0 0.0 1.0 43.0 79000.0]\n",
      " [0.0 1.0 0.0 0.0 50.0 83000.0]\n",
      " [1.0 0.0 0.0 0.0 40.0 67000.0]\n",
      " [1.0 0.0 0.0 0.0 41.0 65363.63636363636]\n",
      " [0.0 1.0 0.0 0.0 42.0 67000.0]\n",
      " [0.0 0.0 0.0 1.0 32.0 67000.0]\n",
      " [0.0 0.0 0.0 1.0 45.0 69000.0]]\n"
     ]
    }
   ],
   "source": [
    "print(X)"
   ]
  },
  {
   "cell_type": "code",
   "execution_count": 8,
   "id": "3e76c2df",
   "metadata": {},
   "outputs": [],
   "source": [
    "from sklearn.preprocessing import LabelEncoder\n",
    "le = LabelEncoder()\n",
    "y = le.fit_transform(y)"
   ]
  },
  {
   "cell_type": "code",
   "execution_count": 9,
   "id": "c63a1ca6",
   "metadata": {},
   "outputs": [
    {
     "name": "stdout",
     "output_type": "stream",
     "text": [
      "[0 1 0 0 1 1 0 1 0 1 0 0 1 1]\n"
     ]
    }
   ],
   "source": [
    "print(y)"
   ]
  },
  {
   "cell_type": "code",
   "execution_count": 10,
   "id": "86d18da8",
   "metadata": {},
   "outputs": [
    {
     "name": "stdout",
     "output_type": "stream",
     "text": [
      "[[0.0 0.0 1.0 0.0 30.0 54000.0]\n",
      " [1.0 0.0 0.0 0.0 41.0 65363.63636363636]\n",
      " [1.0 0.0 0.0 0.0 40.0 65363.63636363636]\n",
      " [0.0 1.0 0.0 0.0 29.0 48000.0]\n",
      " [0.0 0.0 0.0 1.0 32.0 67000.0]\n",
      " [0.0 0.0 0.0 1.0 46.0 72000.0]\n",
      " [0.0 0.0 0.0 1.0 45.0 69000.0]\n",
      " [1.0 0.0 0.0 0.0 40.0 67000.0]\n",
      " [0.0 1.0 0.0 0.0 50.0 83000.0]\n",
      " [0.0 1.0 0.0 0.0 42.0 67000.0]\n",
      " [0.0 1.0 0.0 0.0 35.0 65363.63636363636]]\n"
     ]
    }
   ],
   "source": [
    "from sklearn.model_selection import train_test_split\n",
    "X_train, X_test, y_train, y_test = train_test_split(X, y, test_size = 0.2, random_state = 1)\n",
    "print(X_train)"
   ]
  },
  {
   "cell_type": "code",
   "execution_count": 11,
   "id": "6265aed6",
   "metadata": {},
   "outputs": [
    {
     "name": "stdout",
     "output_type": "stream",
     "text": [
      "[[0.0 0.0 1.0 0.0 36.0 61000.0]\n",
      " [0.0 0.0 0.0 1.0 43.0 79000.0]\n",
      " [0.0 0.0 0.0 1.0 39.15384615384615 52000.0]]\n"
     ]
    }
   ],
   "source": [
    "print(X_test)"
   ]
  },
  {
   "cell_type": "code",
   "execution_count": 12,
   "id": "0c9c1f33",
   "metadata": {},
   "outputs": [
    {
     "name": "stdout",
     "output_type": "stream",
     "text": [
      "[0 0 1 1 1 0 1 1 0 0 1]\n"
     ]
    }
   ],
   "source": [
    "print(y_train)"
   ]
  },
  {
   "cell_type": "code",
   "execution_count": 13,
   "id": "e1df8630",
   "metadata": {},
   "outputs": [
    {
     "name": "stdout",
     "output_type": "stream",
     "text": [
      "[0 1 0]\n"
     ]
    }
   ],
   "source": [
    "print(y_test)"
   ]
  },
  {
   "cell_type": "code",
   "execution_count": 14,
   "id": "eb94c3a6",
   "metadata": {},
   "outputs": [],
   "source": [
    "from sklearn.preprocessing import StandardScaler\n",
    "sc = StandardScaler()\n",
    "X_train[:, 3:] = sc.fit_transform(X_train[:, 3:])\n",
    "X_test[:, 3:] = sc.transform(X_test[:, 3:])"
   ]
  },
  {
   "cell_type": "code",
   "execution_count": 15,
   "id": "3df80411",
   "metadata": {
    "scrolled": true
   },
   "outputs": [
    {
     "name": "stdout",
     "output_type": "stream",
     "text": [
      "[[0.0 0.0 1.0 -0.6123724356957945 -1.3953639304648695 -1.3714539476339422]\n",
      " [1.0 0.0 0.0 -0.6123724356957945 0.2930264253976221 -0.04346156876304767]\n",
      " [1.0 0.0 0.0 -0.6123724356957945 0.13953639304648652\n",
      "  -0.04346156876304767]\n",
      " [0.0 1.0 0.0 -0.6123724356957945 -1.548853962816005 -2.072633923677775]\n",
      " [0.0 0.0 0.0 1.632993161855452 -1.0883838657625984 0.14776933379436158]\n",
      " [0.0 0.0 0.0 1.632993161855452 1.0604765871533002 0.7320859804975554]\n",
      " [0.0 0.0 0.0 1.632993161855452 0.9069865548021645 0.3814959924756391]\n",
      " [1.0 0.0 0.0 -0.6123724356957945 0.13953639304648652 0.14776933379436158]\n",
      " [0.0 1.0 0.0 -0.6123724356957945 1.6744367165578424 2.017582603244582]\n",
      " [0.0 1.0 0.0 -0.6123724356957945 0.4465164577487577 0.14776933379436158]\n",
      " [0.0 1.0 0.0 -0.6123724356957945 -0.6279137687091915\n",
      "  -0.04346156876304767]]\n"
     ]
    }
   ],
   "source": [
    "print(X_train)"
   ]
  },
  {
   "cell_type": "code",
   "execution_count": 16,
   "id": "98918fa1",
   "metadata": {},
   "outputs": [
    {
     "name": "stdout",
     "output_type": "stream",
     "text": [
      "[[0.0 0.0 1.0 -0.6123724356957945 -0.4744237363580559 -0.553410642249471]\n",
      " [0.0 0.0 0.0 1.632993161855452 0.6000064900998933 1.5501292858820266]\n",
      " [0.0 0.0 0.0 1.632993161855452 0.009660211826294767 -1.6051806063152199]]\n"
     ]
    }
   ],
   "source": [
    "print(X_test)"
   ]
  }
 ],
 "metadata": {
  "kernelspec": {
   "display_name": "Python 3 (ipykernel)",
   "language": "python",
   "name": "python3"
  },
  "language_info": {
   "codemirror_mode": {
    "name": "ipython",
    "version": 3
   },
   "file_extension": ".py",
   "mimetype": "text/x-python",
   "name": "python",
   "nbconvert_exporter": "python",
   "pygments_lexer": "ipython3",
   "version": "3.9.0"
  }
 },
 "nbformat": 4,
 "nbformat_minor": 5
}
